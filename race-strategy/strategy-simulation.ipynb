{
 "cells": [
  {
   "cell_type": "markdown",
   "metadata": {},
   "source": [
    "**Information**\n",
    "\n",
    "***Tire offsets***  \n",
    "Generally the offset from soft to medium tires is +0.6  \n",
    "Generally the offset from medium to hard tires is +0.7\n",
    "\n",
    "***Tire wear***\n",
    "Generally:\n",
    "- C1: 30-50\n",
    "- C2: 25-35\n",
    "- C3: 20-30\n",
    "- C4: 15-25\n",
    "- C5: 10-15\n",
    "\n",
    "\n",
    "***Downforce***  \n",
    "- High downforce: More stress on the tires, more tire wear  \n",
    "- Low downforce: Less stress on the tires, less tire wear\n",
    "\n",
    "***Available tire sets during a race***\n",
    "- 2 scrubbed soft\n",
    "- 2 new medium\n",
    "- 1 new hard\n",
    "- 1 scrubbed hard"
   ]
  },
  {
   "cell_type": "markdown",
   "metadata": {},
   "source": [
    "**Logic**  \n",
    "***Outcome:*** Find the fastest time for the entire race"
   ]
  }
 ],
 "metadata": {
  "language_info": {
   "name": "python"
  }
 },
 "nbformat": 4,
 "nbformat_minor": 2
}
